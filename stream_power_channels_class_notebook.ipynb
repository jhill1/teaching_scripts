{
  "nbformat": 4,
  "nbformat_minor": 0,
  "metadata": {
    "anaconda-cloud": {},
    "kernelspec": {
      "display_name": "Python 3",
      "language": "python",
      "name": "python3"
    },
    "language_info": {
      "codemirror_mode": {
        "name": "ipython",
        "version": 3
      },
      "file_extension": ".py",
      "mimetype": "text/x-python",
      "name": "python",
      "nbconvert_exporter": "python",
      "pygments_lexer": "ipython3",
      "version": "3.7.1"
    },
    "colab": {
      "name": "stream_power_channels_class_notebook.ipynb",
      "provenance": [],
      "collapsed_sections": [],
      "include_colab_link": true
    }
  },
  "cells": [
    {
      "cell_type": "markdown",
      "metadata": {
        "id": "view-in-github",
        "colab_type": "text"
      },
      "source": [
        "<a href=\"https://colab.research.google.com/github/jhill1/teaching_scripts/blob/main/stream_power_channels_class_notebook.ipynb\" target=\"_parent\"><img src=\"https://colab.research.google.com/assets/colab-badge.svg\" alt=\"Open In Colab\"/></a>"
      ]
    },
    {
      "cell_type": "markdown",
      "metadata": {
        "id": "eA4jSSywuh2F"
      },
      "source": [
        "<a href=\"http://landlab.github.io\"><img style=\"float: left\" src=\"https://raw.githubusercontent.com/landlab/tutorials/release/landlab_header.png\"></a>"
      ]
    },
    {
      "cell_type": "markdown",
      "metadata": {
        "id": "wX0JiLuguh2G"
      },
      "source": [
        "# Quantifying river channel evolution with Landlab\n",
        "These exercises are based on a project orginally designed by Kelin Whipple at Arizona State University. This notebook was created by Nicole Gasparini at Tulane University. Edited for University of York \"Earth Processes and Landform\" students by Jon Hill."
      ]
    },
    {
      "cell_type": "markdown",
      "metadata": {
        "id": "tjpWz5s8uh2H"
      },
      "source": [
        "<hr>\n",
        "<small>For tutorials on learning Landlab, click here: <a href=\"https://github.com/landlab/landlab/wiki/Tutorials\">https://github.com/landlab/landlab/wiki/Tutorials</a></small>\n",
        "<hr>"
      ]
    },
    {
      "cell_type": "markdown",
      "metadata": {
        "id": "TkeJ-LPPuh2I"
      },
      "source": [
        "**What is this notebook?**\n",
        "\n",
        "This notebook illustrates the evolution of detachment-limited channels in an actively uplifting landscape. The landscape evolves according to the equation:\n",
        "\n",
        "\\begin{equation}\n",
        " \\frac{d z}{d t} = -K_\\text{sp} A^{m_{sp}} S^{n_{sp}} + U\n",
        "\\end{equation}\n",
        "\n",
        "Here, $K_{sp}$ is the erodibility coefficient on fluvial incision, which is thought to be positively correlated with climate wetness, or storminess (this is hard to quantify) and to be negatively correlated with rock strength (again, rock strength is hard to quantify). $m_{sp}$ and $n_{sp}$ are positive exponents, usually thought to have a ratio, $m_{sp}/n_{sp} \\approx 0.5$. $A$ is drainage area and $S$ is the slope of steepest descent ($-\\frac{dz}{dx}$) where $x$ is horizontal distance (positive in the downslope direction) and $z$ is elevation. (If slope is negative there is no fluvial erosion.) $U$ is an externally-applied rock uplift field.\n",
        "\n",
        "The fluvial erosion term is also known as the stream power equation. Before using this notebook you should be familiar with this equation from what I've covered in the lectures.\n",
        "\n",
        "For a great overview of the stream power equation, see: \n",
        "\n",
        "- Whipple and Tucker, 1999, Dynamics of the stream-power river incision model: Implications for height limits of mountain ranges, landscape response timescales, and research needs, Journal of Geophysical Research.\n",
        "\n",
        "For some great illustrations of modelling with the stream power equation, see:\n",
        "\n",
        "- Tucker and Whipple, 2002, Topographic outcomes predicted by stream erosion models: Sensitivity analysis and intermodel comparison, Journal of Geophysical Research.\n",
        "\n",
        "Helpful background on landscape sensitivity to rock uplift rates and patterns can be found here:\n",
        "\n",
        "- Kirby and Whipple, 2012, Expression of active tectonics in erosional landscapes, Journal of Structural Geology.\n",
        "\n",
        "**What will you do and what is the point?**\n",
        "\n",
        "The idea of this practical is to think about how a river system goes back into equilibrium following some change in the system. This is what we've been covering in the lectures. We will create a steady-state system, then perturb it to see how and how long it takes to go back into equilibrium.\n",
        "\n",
        "In this exercise you will modify the code to alter rock uplift rates and patterns and the erodibility coefficient that controls fluvial channel form.\n",
        "\n",
        "Start at the top by reading each block of text and sequentially running each code block (click the little \"play\" symbol on the left of a block of code). \n",
        "\n",
        "If you just change one code block and rerun only that code block, only the parts of the code in that code block will be updated. (E.g. if you change parameters but don't reset the code blocks that initialize run time or topography, then these values will not be reset.) \n",
        "\n",
        "**STUDENTS: Questions to answer before starting this assignment.**\n",
        "\n",
        "Answer these questions before running the notebook.\n",
        "\n",
        "1. What do you think will happen to total relief (defined as the maximum minus the minimum elevation, here area is fixed) and channel slope at steady state if $K_{sp}$ is uniformly increased (i.e. we make the landscape more \"erodable\")?\n",
        "2. What do you think will happen to total relief and channel slope at steady state if $U$ is uniformly increased, like if the sea level rise rate dropped?\n",
        "3. How do you think a steady-state landscape with a uniform low rock uplift rate will respond if rock uplift is non-uniformly increased e.g. via an earthquake?"
      ]
    },
    {
      "cell_type": "markdown",
      "source": [
        "# Our code starts here\n",
        "\n",
        "First we have to buld some python modules and install them. Bit of a hack here. The Google Colab build comes with a module called tomli, which we need, but it has version 2.0.0. We need version less than 2.0.0, so we install the previous version 1.2.3. However, to get this picked up, we need to restart the run time. Hence we run os.kill, which will cause this block to fail (but it hasn't! We *made* it fail). The runtime will automatically restart after being killed."
      ],
      "metadata": {
        "id": "tprnx0PmzydP"
      }
    },
    {
      "cell_type": "code",
      "metadata": {
        "id": "NykdL_XRukzJ"
      },
      "source": [
        "!pip install landlab\n",
        "!pip install tomli==1.2.3\n",
        "import os\n",
        "os.kill(os.getpid(), 9)"
      ],
      "execution_count": null,
      "outputs": []
    },
    {
      "cell_type": "markdown",
      "metadata": {
        "id": "s5L362gkuh2J"
      },
      "source": [
        "**Now on to the code...**\n",
        "\n",
        "First we have to import the parts of Python and Landlab that are needed to run this code. You should not have to change this first code block. First, let's check we have the right version of tomli (should be 1.2.3: if not stick your hand up!)"
      ]
    },
    {
      "cell_type": "code",
      "source": [
        "import tomli\n",
        "tomli.__version__\n"
      ],
      "metadata": {
        "id": "ckgrMDd7xYgy"
      },
      "execution_count": null,
      "outputs": []
    },
    {
      "cell_type": "markdown",
      "source": [
        "Now onto the code proper. This is our first code block. Note the comment which numbers the blocks and I refer to those throughout the text."
      ],
      "metadata": {
        "id": "hNBURdvb0XGt"
      }
    },
    {
      "cell_type": "code",
      "metadata": {
        "id": "kxnARwbauh2K"
      },
      "source": [
        "# Code block 1\n",
        "\n",
        "import copy\n",
        "\n",
        "import numpy as np\n",
        "from matplotlib import pyplot as plt\n",
        "\n",
        "from landlab import RasterModelGrid, imshow_grid\n",
        "from landlab.components import (\n",
        "    ChannelProfiler,\n",
        "    ChiFinder,\n",
        "    FlowAccumulator,\n",
        "    SteepnessFinder,\n",
        "    StreamPowerEroder,\n",
        ")\n",
        "from landlab.io import write_esri_ascii\n",
        "\n",
        "#below is to make plots show up in the notebook\n",
        "%matplotlib inline "
      ],
      "execution_count": null,
      "outputs": []
    },
    {
      "cell_type": "markdown",
      "metadata": {
        "id": "wTVHWr2zuh2Q"
      },
      "source": [
        "Make a grid and set boundary conditions. "
      ]
    },
    {
      "cell_type": "code",
      "metadata": {
        "id": "g03D6arYuh2R"
      },
      "source": [
        "# Code Block 2\n",
        "\n",
        "number_of_rows = 50 # number of raster cells in vertical direction (y)\n",
        "number_of_columns = 100 # number of raster cells in horizontal direction (x)\n",
        "dxy  = 200 # side length of a raster model cell, or resolution [m]\n",
        "\n",
        "# Below is a raster (square cells) grid, with equal width and height \n",
        "mg1 = RasterModelGrid((number_of_rows,number_of_columns), dxy)\n",
        "\n",
        "# Set boundary conditions - only the south side of the grid is open.\n",
        "# Boolean parameters are sent to function in order of\n",
        "# east, north, west, south.\n",
        "mg1.set_closed_boundaries_at_grid_edges(True, True, True, False)"
      ],
      "execution_count": null,
      "outputs": []
    },
    {
      "cell_type": "markdown",
      "metadata": {
        "id": "mnqiqR4fuh2V"
      },
      "source": [
        "Here we make the initial grid of elevation of zeros with a very small amount of noise to make a more pleasing network."
      ]
    },
    {
      "cell_type": "code",
      "metadata": {
        "id": "Hsiw-Cwguh2W"
      },
      "source": [
        "# Code Block 3\n",
        "\n",
        "np.random.seed(87) # seed set so our figures are reproducible\n",
        "mg1_noise = np.random.rand(mg1.number_of_nodes)/1000. # intial noise on elevation gri\n",
        "\n",
        "# set up the elevation on the grid\n",
        "z1 = mg1.add_zeros('node', 'topographic__elevation')\n",
        "z1 += mg1_noise"
      ],
      "execution_count": null,
      "outputs": []
    },
    {
      "cell_type": "markdown",
      "metadata": {
        "id": "ubbfm0tvuh2Z"
      },
      "source": [
        "Set parameters related to time."
      ]
    },
    {
      "cell_type": "code",
      "metadata": {
        "id": "dvCJpqtEuh2a"
      },
      "source": [
        "# Code Block 4\n",
        "\n",
        "tmax = 5E5  # time for the model to run [yr] (Original value was 5E5 yr for reference when you edit this)\n",
        "dt = 1000.0 # time step [yr] (Original value was 1000 yr)\n",
        "total_time = 0 # amount of time the landscape has evolved [yr]\n",
        "# total_time will increase as you keep running the code.\n",
        "\n",
        "t = np.arange(0, tmax, dt) # each of the time steps that the code will run"
      ],
      "execution_count": null,
      "outputs": []
    },
    {
      "cell_type": "markdown",
      "metadata": {
        "id": "yEpoJQ2Fuh2e"
      },
      "source": [
        "Set parameters for incision and intializing all of the process components that do the work. We also initialize tools for quantifying the landscape."
      ]
    },
    {
      "cell_type": "code",
      "metadata": {
        "id": "4VyFaO0Iuh2f"
      },
      "source": [
        "# Code Block 5\n",
        "\n",
        "# Original K_sp value is 1e-5\n",
        "K_sp = 1.E-5  # units vary depending on m_sp and n_sp \n",
        "m_sp = 0.5 # exponent on drainage area in stream power equation\n",
        "n_sp = 1.0 # exponent on slope in stream power equation\n",
        "\n",
        "frr = FlowAccumulator(mg1) # intializing flow routing\n",
        "spr = StreamPowerEroder(mg1, K_sp=K_sp, m_sp=m_sp, n_sp=n_sp, threshold_sp=0) #initializing stream power incision\n",
        "\n",
        "theta = m_sp/n_sp \n",
        "# initialize the component that will calculate channel steepness\n",
        "sf = SteepnessFinder(mg1, reference_concavity=theta, min_drainage_area=1000.)\n",
        "# initialize the component that will calculate the chi index\n",
        "cf = ChiFinder(mg1, min_drainage_area=1000., reference_concavity=theta, use_true_dx=True)"
      ],
      "execution_count": null,
      "outputs": []
    },
    {
      "cell_type": "markdown",
      "metadata": {
        "id": "lHKYZxDfuh2j"
      },
      "source": [
        "Initialize rock uplift rate. This will need to be changed later."
      ]
    },
    {
      "cell_type": "code",
      "metadata": {
        "id": "aBgpEjJGuh2l"
      },
      "source": [
        "# Code Block 6\n",
        "\n",
        "#  uplift_rate [m/yr] (Original value is 0.0001 m/yr)\n",
        "uplift_rate = np.ones(mg1.number_of_nodes)*0.0001 "
      ],
      "execution_count": null,
      "outputs": []
    },
    {
      "cell_type": "markdown",
      "metadata": {
        "id": "U3DJyabCuh2p"
      },
      "source": [
        "Now for the code loop. \n",
        "\n",
        "Note that you can rerun Code Block 7 many times, and as long as you don't reset the elevation field (Code Block 3), it will take the already evolved landscape and evolve it even more. If you want to change parameters in other code blocks (e.g. Code Block 5 or 6), you can do that too, and as long as you don't reset the elevation field (Code Block 3) the new parameters will apply on the already evolved topography. "
      ]
    },
    {
      "cell_type": "code",
      "metadata": {
        "scrolled": true,
        "id": "5lWNHCMvuh2p"
      },
      "source": [
        "# Code Block 7\n",
        "\n",
        "for ti in t:\n",
        "    z1[mg1.core_nodes] += uplift_rate[mg1.core_nodes]*dt # uplift the landscape\n",
        "    frr.run_one_step() # route flow\n",
        "    spr.run_one_step(dt) # fluvial incision\n",
        "    total_time += dt # update time keeper\n",
        "    print(total_time)"
      ],
      "execution_count": null,
      "outputs": []
    },
    {
      "cell_type": "markdown",
      "metadata": {
        "id": "4dx6SyX5uh2t"
      },
      "source": [
        "Plot the topography."
      ]
    },
    {
      "cell_type": "code",
      "metadata": {
        "id": "4m2e90vyuh2u"
      },
      "source": [
        "# Code Block 8\n",
        "\n",
        "imshow_grid(mg1, 'topographic__elevation', grid_units=('m', 'm'),\n",
        "                var_name='Elevation (m)')\n",
        "title_text = '$K_{sp}$='+str(K_sp) + '; $time$='+str(total_time) + 'yr; $dx$='+str(dxy) + 'm'\n",
        "plt.title(title_text)\n",
        "\n",
        "max_elev = np.max(z1)\n",
        "print('Maximum elevation is ', np.max(z1))"
      ],
      "execution_count": null,
      "outputs": []
    },
    {
      "cell_type": "markdown",
      "metadata": {
        "id": "vI-hmS6Cuh2y"
      },
      "source": [
        "Plot the slope and area data at each point on the landscape (in log-log space)."
      ]
    },
    {
      "cell_type": "code",
      "metadata": {
        "scrolled": true,
        "id": "YETZprDpuh2z"
      },
      "source": [
        "# Code Block 9\n",
        "\n",
        "indices = np.where(mg1.status_at_node[mg1.at_node['flow__receiver_node']] == 0)\n",
        "plt.loglog(mg1.at_node['drainage_area'][indices],\n",
        "           mg1.at_node['topographic__steepest_slope'][indices], 'b.')\n",
        "plt.ylabel('Topographic slope')\n",
        "plt.xlabel('Drainage area (m^2)')\n",
        "title_text = '$K_{sp}$='+str(K_sp) + '; $time$='+str(total_time) + 'yr; $dx$='+str(dxy) + 'm'\n",
        "plt.title(title_text)"
      ],
      "execution_count": null,
      "outputs": []
    },
    {
      "cell_type": "markdown",
      "metadata": {
        "id": "UvUAJkUeuh23"
      },
      "source": [
        "It is slightly easier to interpret slope-area data when we look at a single channel, rather than the entire landscape. Below we plot the profile and slope-area data for the three largest channels on the landscape."
      ]
    },
    {
      "cell_type": "code",
      "metadata": {
        "id": "Ngmj1nTluh24"
      },
      "source": [
        "# Code Block 10\n",
        "\n",
        "# profile the largest channels, set initially to find the mainstem channel in the three biggest watersheds\n",
        "# you can change the number of watersheds, or choose to plot all the channel segments in the watershed that\n",
        "# have drainage area below the threshold (here we have set the threshold to the area of a grid cell).\n",
        "prf = ChannelProfiler(mg1,\n",
        "                      number_of_watersheds=3,\n",
        "                      main_channel_only=True,\n",
        "                      minimum_channel_threshold=dxy**2)\n",
        "prf.run_one_step()\n",
        "\n",
        "# plot the elevation as a function of distance upstream\n",
        "plt.figure(1)\n",
        "title_text = f\"$K_{{sp}}$={K_sp}; $time$={total_time} yr; $dx$={dxy} m\"\n",
        "prf.plot_profiles(xlabel='distance upstream (m)',\n",
        "                  ylabel='elevation (m)',\n",
        "                  title=title_text)\n",
        "\n",
        "# plot the location of the channels in map view\n",
        "plt.figure(2)\n",
        "prf.plot_profiles_in_map_view()\n",
        "\n",
        "# slope-area data in just the profiled channels\n",
        "plt.figure(3)\n",
        "for i, outlet_id in enumerate(prf.data_structure):\n",
        "    for j, segment_id in enumerate(prf.data_structure[outlet_id]):\n",
        "        if j == 0:\n",
        "            label = \"channel {i}\".format(i=i + 1)\n",
        "        else:\n",
        "            label = '_nolegend_'\n",
        "        segment = prf.data_structure[outlet_id][segment_id]\n",
        "        profile_ids = segment[\"ids\"]\n",
        "        color = segment[\"color\"]\n",
        "        plt.loglog(\n",
        "            mg1.at_node[\"drainage_area\"][profile_ids],\n",
        "            mg1.at_node[\"topographic__steepest_slope\"][profile_ids],\n",
        "            '.',\n",
        "            color=color,\n",
        "            label=label,\n",
        "        )\n",
        "\n",
        "plt.legend(loc=\"lower left\")\n",
        "plt.xlabel(\"drainage area (m^2)\")\n",
        "plt.ylabel(\"channel slope [m/m]\")\n",
        "title_text = f\"$K_{{sp}}$={K_sp}; $time$={total_time} yr; $dx$={dxy} m\"\n",
        "plt.title(title_text)"
      ],
      "execution_count": null,
      "outputs": []
    },
    {
      "cell_type": "markdown",
      "metadata": {
        "id": "AvuC0QG7uh28"
      },
      "source": [
        "The channel steepness index is a useful index to quantify fluvial channels. Below we plot the steepness index in the same three largest channels, and also plot steepness index across the grid."
      ]
    },
    {
      "cell_type": "code",
      "metadata": {
        "id": "XFU2ox3duh28"
      },
      "source": [
        "# Code Block 11\n",
        "\n",
        "\n",
        "# calculate channel steepness\n",
        "sf.calculate_steepnesses()\n",
        "\n",
        "# plots of steepnes vs. distance upstream in the profiled channels\n",
        "plt.figure(4)\n",
        "\n",
        "for i, outlet_id in enumerate(prf.data_structure):\n",
        "    for j, segment_id in enumerate(prf.data_structure[outlet_id]):\n",
        "        if j == 0:\n",
        "            label = \"channel {i}\".format(i=i + 1)\n",
        "        else:\n",
        "            label = '_nolegend_'\n",
        "        segment = prf.data_structure[outlet_id][segment_id]\n",
        "        profile_ids = segment[\"ids\"]\n",
        "        distance_upstream = segment[\"distances\"]\n",
        "        color = segment[\"color\"]\n",
        "        plt.plot(\n",
        "            distance_upstream,\n",
        "            mg1.at_node[\"channel__steepness_index\"][profile_ids],\n",
        "            'x',\n",
        "            color=color,\n",
        "            label=label,\n",
        "        )\n",
        "\n",
        "plt.xlabel(\"distance upstream (m)\")\n",
        "plt.ylabel(\"steepness index\")\n",
        "plt.legend(loc=\"upper left\")\n",
        "plt.title(\n",
        "    f\"$K_{{sp}}$={K_sp}; $time$={total_time} yr; $dx$={dxy} m; concavity={theta}\"\n",
        ")\n",
        "\n",
        "# channel steepness map\n",
        "plt.figure(15)\n",
        "imshow_grid(\n",
        "    mg1,\n",
        "    \"channel__steepness_index\",\n",
        "    grid_units=(\"m\", \"m\"),\n",
        "    var_name=\"Steepness index \",\n",
        "    cmap=\"jet\",\n",
        ")\n",
        "plt.title(\n",
        "    f\"$K_{{sp}}$={K_sp}; $time$={total_time} yr; $dx$={dxy} m; concavity={theta}\"\n",
        ")"
      ],
      "execution_count": null,
      "outputs": []
    },
    {
      "cell_type": "markdown",
      "metadata": {
        "id": "CirDPaI0uh3B"
      },
      "source": [
        "If you have a grid that you want to export, uncomment and edit the appropriate lines below and run the code block."
      ]
    },
    {
      "cell_type": "code",
      "metadata": {
        "id": "_UC48-Hguh3B"
      },
      "source": [
        "# Code Block 12\n",
        "\n",
        "## Below has the name of the file that data will be written to.\n",
        "## You need to change the name of the file every time that you want\n",
        "## to write data, otherwise you will get an error.\n",
        "## This will write to the directory that you are running the code in.\n",
        "write_file_name = 'data_file.txt'\n",
        "## Below is writing elevation data in the ESRI ascii format so that it can\n",
        "## easily be read into Arc GIS or back into Landlab.\n",
        "from landlab.io import write_esri_ascii\n",
        "write_esri_ascii(write_file_name, mg1, 'topographic__elevation')\n",
        "# Click on the folder icon on the left and you'll see data_file.txt. Hover over and press the three-dot menu to download\n",
        "# Edit the filename if you want to write out different files"
      ],
      "execution_count": null,
      "outputs": []
    },
    {
      "cell_type": "markdown",
      "metadata": {
        "id": "oorPdV17uh3F"
      },
      "source": [
        "After running every code block once, has the landscape reached steady state? Answer: NO! How do you know? After you think about this, you are ready to complete this project.\n",
        "\n",
        "You might find it useful to create a Word or Google doc to copy and paste blocks of code, figures and type your own notes. You can use any or all of these different figures to help you with the questions below. (Download or screenshoot the figures.) \n",
        "\n",
        "First job is to get a steady state system. \n",
        "\n",
        "1. **Steady state with low uplift rate. ** Using the initial parameters provided, run the landscape to steady state. Do this by running the main evolution loop - Code Block 7 - again and the different plotting blocks, until the plots show a steady state system. *How many runs did you do? How long is this in time?* You may also want to change $tmax$ in Code Block 4 instead (but might need some guess work to get the right number).\n",
        "\n",
        "How did you know that the landscape reached steady state? \n",
        "\n",
        "Note the approximate time that it took to reach steady state for your own reference. (This will be useful for later questions.) Include appropriate plots in your notes. (If you want to analyze these landscapes outside of Landlab or save for later, make sure you save the elevation data to a text file (Code Block 12).\n",
        "\n",
        "**NOTE: For the rest of the questions you should use Code Blocks 13-19. These will allow you to use the steady-state landscape created for question 1 - referred to here as the 'base landscape' - as the initial condition. Run Code block 13, which creates copies of that initial landscape. Then start by editing what you need to in Code Blocks 14 - 16. Run these each once, sequentially. You can run Code Block 16, the time loop, as many times as you need to, along with Code Blocks 17-19, which produce plots.**\n",
        "\n",
        "For each question, re-run code block 13 to get back to that initial landscape. If it all goes wrong, start from code block 2, but you can edit the $tmax$ parameter to get to steady state in one click...\n",
        "\n",
        "2. **Transient landscape responding to an increase in rock uplift.** Use the base landscape and increase rock uplift uniformly by a factor of 4 to 0.0004 m/yr. Make sure you update the rock uplift rate (Code Block 16) and ensure that $tmax$ is 1e5 yrs and $dt$ is 500 yrs (Code Block 15). Run this until the maximum elevation in the grid is ~ 250 m and observe how the landscape gets to this elevation, i.e. plot intermediate steps. What patterns do you see in the supporting plots that illustrate this type of transient? What aspects of the landscape have changed in comparison with the base landscape from question 1?\n",
        "\n",
        "3. **Increase erodibility.** Start again from the base landscape (i.e. re-run code block 13), but this time increase $K_{sp}$ to 2E-5 (Code Block 13). Make sure rock uplift rate is set to the original value of 0.0001 m/yr (Code Block 15). Set $tmax$ to 1e5 yrs (Code Block 14). Run for 1e5 yrs and save the plots that you think are diagnostic. Run for another 1e5 yrs and save plots again. Now run for 5e5 yrs and save plots again. Quantitatively describe how the landscape evolves in response to the increase in erodibility and provide supporting plots. What could cause a uniform increase in erodibility?\n",
        "\n",
        "4. **Spatially varible uplift - discrete, massive earthquake.** Start again from the base landscape  (Code Block 13), and make sure that $K_{sp}$ = 1E-5. Now add a seismic event to this steady state landscape - a fault that runs horizontally across the landscape at y = 4000 m, and instantaneously uplifts half the landscape by 10 meters (Code Block 15 - uncomment the five lines in the first *IMPORTANT* comment block). In this case, we will keep background uplift uniform at 0.0001 m/yr. Set $tmax$ to 1e5 yrs and $dt$ to 500 yrs (Code Block 15) before evolving the landscape after the fault. Now run the time loop four times and look at the different plots after each loop. How does the landscape respond to this fault? What patterns do you see in the supporting plots that illustrate this type of transient? Which patterns, if any, are diagnostic of a channel response to an earthquake? \n",
        "\n",
        "6. **Final Reflection.** Was your initial insight into how parameters would effect the landscape correct?\n",
        "\n",
        "Feel free to play abound some more. How might uplift rate increase and erodibility change play out if they happen at the same time? How might we differentiate between these things happening?"
      ]
    },
    {
      "cell_type": "code",
      "metadata": {
        "id": "txJ5QAe4uh3F"
      },
      "source": [
        "# Code Block 13\n",
        "\n",
        "number_of_rows = 50  # number of raster cells in vertical direction (y)\n",
        "number_of_columns = 100  # number of raster cells in horizontal direction (x)\n",
        "dxy2 = 200  # side length of a raster model cell, or resolution [m]\n",
        "\n",
        "# Below is a raster (square cells) grid, with equal width and height\n",
        "mg2 = RasterModelGrid((number_of_rows, number_of_columns), dxy2)\n",
        "\n",
        "# Set boundary conditions - only the south side of the grid is open.\n",
        "# Boolean parameters are sent to function in order of\n",
        "# east, north, west, south.\n",
        "mg2.set_closed_boundaries_at_grid_edges(True, True, True, False)\n",
        "\n",
        "z2 = copy.copy(z1)  # initialize the elevations with the steady state\n",
        "# topography produced for question 1\n",
        "z2 = mg2.add_field(\"topographic__elevation\", z2, at=\"node\")\n",
        "\n",
        "# K_sp value for base landscape is 1e-5\n",
        "K_sp2 = 1e-5  # units vary depending on m_sp and n_sp\n",
        "m_sp2 = 0.5  # exponent on drainage area in stream power equation\n",
        "n_sp2 = 1.0  # exponent on slope in stream power equation\n",
        "\n",
        "frr2 = FlowAccumulator(mg2)  # intializing flow routing\n",
        "spr2 = StreamPowerEroder(\n",
        "    mg2, K_sp=K_sp2, m_sp=m_sp2, n_sp=n_sp2,\n",
        "    threshold_sp=0.0)  # initializing stream power incision\n",
        "\n",
        "theta2 = m_sp2 / n_sp2\n",
        "# initialize the component that will calculate channel steepness\n",
        "sf2 = SteepnessFinder(mg2,\n",
        "                      reference_concavity=theta2,\n",
        "                      min_drainage_area=1000.0)\n",
        "# initialize the component that will calculate the chi index\n",
        "cf2 = ChiFinder(mg2,\n",
        "                min_drainage_area=1000.0,\n",
        "                reference_concavity=theta2,\n",
        "                use_true_dx=True)"
      ],
      "execution_count": null,
      "outputs": []
    },
    {
      "cell_type": "code",
      "metadata": {
        "id": "gUvEn29wuh3I"
      },
      "source": [
        "# Code Block 14\n",
        "\n",
        "tmax = 1E5  # time for the model to run [yr] (Original value was 5E5 yr)\n",
        "dt = 500.0 # time step [yr] (Original value was 500 yr)\n",
        "total_time = 0 # amount of time the landscape has evolved [yr]\n",
        "# total_time will increase as you keep running the code.\n",
        "\n",
        "t = np.arange(0, tmax, dt) # each of the time steps that the code will run"
      ],
      "execution_count": null,
      "outputs": []
    },
    {
      "cell_type": "code",
      "metadata": {
        "id": "8D90zRrauh3L"
      },
      "source": [
        "# Code Block 15\n",
        "\n",
        "#  uplift_rate [m/yr] (value was 0.0001 m/yr for base landscape)\n",
        "uplift_rate = np.ones(mg2.number_of_nodes)*0.0001\n",
        "\n",
        "## If you want to add a one-time event that uplifts only part of the \n",
        "## landscape, uncomment the 3 lines below\n",
        "#fault_location = 4000  # [m]\n",
        "#uplift_amount = 10 # [m]\n",
        "#z2[np.where(mg2.node_y>fault_location)] += uplift_amount \n",
        "\n",
        "## IMPORTANT! To use the below fault generator, comment the one-time \n",
        "## uplift event above if it isn't already commented out.\n",
        "## Code below creates a fault horizontally across the grid.\n",
        "## Uplift rates are greater where y values  > fault location.\n",
        "## To use, uncomment the 5 code lines below and edit to your values\n",
        "#fault_location = 4000  # [m]\n",
        "#low_uplift_rate = 0.0001 # [m/yr]\n",
        "#high_uplift_rate = 0.0004 # [m/yr]\n",
        "#uplift_rate[np.where(mg2.node_y<fault_location)] = low_uplift_rate\n",
        "#uplift_rate[np.where(mg2.node_y>fault_location)] = high_uplift_rate\n",
        "\n",
        "## IMPORTANT! To use below rock uplift gradient, comment the two\n",
        "## uplift options above if they aren't already commented out.\n",
        "## If you want a linear gradient in uplift rate \n",
        "## (increasing uplift into the range),\n",
        "## uncomment the 4 code lines below and edit to your values.\n",
        "#low_uplift_rate = 0.0001 # [m/yr]\n",
        "#high_uplift_rate = 0.0004 # [m/yr]\n",
        "## below is uplift gradient per node row index, NOT row value in meters\n",
        "#uplift_rate_gradient = (high_uplift_rate - low_uplift_rate)/(number_of_rows-3)\n",
        "#uplift_rate = low_uplift_rate + ((mg2.node_y / dxy)-1) * uplift_rate_gradient"
      ],
      "execution_count": null,
      "outputs": []
    },
    {
      "cell_type": "code",
      "metadata": {
        "id": "8N8pWPGtuh3O"
      },
      "source": [
        "# Code Block 16\n",
        "\n",
        "for ti in t:\n",
        "    z2[mg1.core_nodes] += uplift_rate[mg2.core_nodes]*dt # uplift the landscape\n",
        "    frr2.run_one_step() # route flow\n",
        "    spr2.run_one_step(dt) # fluvial incision\n",
        "    total_time += dt # update time keeper\n",
        "    print(total_time)"
      ],
      "execution_count": null,
      "outputs": []
    },
    {
      "cell_type": "code",
      "metadata": {
        "id": "_kjt8XU-uh3R"
      },
      "source": [
        "# Code Block 17\n",
        "# Plot topography\n",
        "\n",
        "plt.figure(7)\n",
        "imshow_grid(mg2, 'topographic__elevation', grid_units=('m', 'm'),\n",
        "                var_name='Elevation (m)')\n",
        "title_text = '$K_{sp}$='+str(K_sp2) + '; $time$='+str(total_time) + 'yr; $dx$='+str(dxy) + 'm'\n",
        "plt.title(title_text)\n",
        "\n",
        "max_elev = np.max(z2)\n",
        "print('Maximum elevation is ', np.max(z2))"
      ],
      "execution_count": null,
      "outputs": []
    },
    {
      "cell_type": "code",
      "metadata": {
        "id": "4RSCQrOIuh3T"
      },
      "source": [
        "# Code Block 18\n",
        "# Plot Channel Profiles and slope-area data along the channels\n",
        "\n",
        "\n",
        "prf2 = ChannelProfiler(mg2,\n",
        "                       number_of_watersheds=3,\n",
        "                       main_channel_only=True,\n",
        "                       minimum_channel_threshold=dxy**2)\n",
        "prf2.run_one_step()\n",
        "\n",
        "# plot the elevation as a function of distance upstream\n",
        "plt.figure(9)\n",
        "title_text = f\"$K_{{sp}}$={K_sp2}; $time$={total_time} yr; $dx$={dxy} m\"\n",
        "prf2.plot_profiles(xlabel='distance upstream (m)',\n",
        "                  ylabel='elevation (m)',\n",
        "                  title=title_text)\n",
        "\n",
        "# plot the location of the channels in map view\n",
        "plt.figure(10)\n",
        "prf2.plot_profiles_in_map_view()\n",
        "\n",
        "# slope-area data in just the profiled channels\n",
        "plt.figure(11)\n",
        "for i, outlet_id in enumerate(prf2.data_structure):\n",
        "    for j, segment_id in enumerate(prf2.data_structure[outlet_id]):\n",
        "        if j == 0:\n",
        "            label = \"channel {i}\".format(i=i + 1)\n",
        "        else:\n",
        "            label = '_nolegend_'\n",
        "        segment = prf2.data_structure[outlet_id][segment_id]\n",
        "        profile_ids = segment[\"ids\"]\n",
        "        color = segment[\"color\"]\n",
        "        plt.loglog(\n",
        "            mg2.at_node[\"drainage_area\"][profile_ids],\n",
        "            mg2.at_node[\"topographic__steepest_slope\"][profile_ids],\n",
        "            '.',\n",
        "            color=color,\n",
        "            label=label,\n",
        "        )\n",
        "\n",
        "plt.legend(loc=\"lower left\")\n",
        "plt.xlabel(\"drainage area (m^2)\")\n",
        "plt.ylabel(\"channel slope [m/m]\")\n",
        "title_text = f\"$K_{{sp}}$={K_sp2}; $time$={total_time} yr; $dx$={dxy2} m\"\n",
        "plt.title(title_text)"
      ],
      "execution_count": null,
      "outputs": []
    },
    {
      "cell_type": "code",
      "metadata": {
        "id": "ukqa2DKluh3W"
      },
      "source": [
        "# Code Block 19\n",
        "# Plot channel steepness along profiles and across the landscape\n",
        "\n",
        "# calculate channel steepness\n",
        "sf2.calculate_steepnesses()\n",
        "\n",
        "# plots of steepnes vs. distance upstream in the profiled channels\n",
        "plt.figure(14)\n",
        "\n",
        "for i, outlet_id in enumerate(prf2.data_structure):\n",
        "    for j, segment_id in enumerate(prf2.data_structure[outlet_id]):\n",
        "        if j == 0:\n",
        "            label = \"channel {i}\".format(i=i + 1)\n",
        "        else:\n",
        "            label = '_nolegend_'\n",
        "        segment = prf2.data_structure[outlet_id][segment_id]\n",
        "        profile_ids = segment[\"ids\"]\n",
        "        distance_upstream = segment[\"distances\"]\n",
        "        color = segment[\"color\"]\n",
        "        plt.plot(\n",
        "            distance_upstream,\n",
        "            mg2.at_node[\"channel__steepness_index\"][profile_ids],\n",
        "            'x',\n",
        "            color=color,\n",
        "            label=label,\n",
        "        )\n",
        "\n",
        "plt.xlabel(\"distance upstream (m)\")\n",
        "plt.ylabel(\"steepness index\")\n",
        "plt.legend(loc=\"upper left\")\n",
        "plt.title(\n",
        "    f\"$K_{{sp}}$={K_sp2}; $time$={total_time} yr; $dx$={dxy2} m; concavity={theta2}\"\n",
        ")\n",
        "\n",
        "# channel steepness map\n",
        "plt.figure(15)\n",
        "imshow_grid(\n",
        "    mg2,\n",
        "    \"channel__steepness_index\",\n",
        "    grid_units=(\"m\", \"m\"),\n",
        "    var_name=\"Steepness index \",\n",
        "    cmap=\"jet\",\n",
        ")\n",
        "plt.title(\n",
        "    f\"$K_{{sp}}$={K_sp2}; $time$={total_time} yr; $dx$={dxy2} m; concavity={theta2}\"\n",
        ")"
      ],
      "execution_count": null,
      "outputs": []
    },
    {
      "cell_type": "code",
      "metadata": {
        "id": "-rbCg3Ifuh3Z"
      },
      "source": [
        ""
      ],
      "execution_count": null,
      "outputs": []
    }
  ]
}